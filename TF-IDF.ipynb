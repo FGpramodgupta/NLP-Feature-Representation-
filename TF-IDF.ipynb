{
 "cells": [
  {
   "cell_type": "code",
   "execution_count": null,
   "metadata": {},
   "outputs": [],
   "source": [
    "#TF- Term Frequency\n",
    "\n",
    "#IDF - Inverse Document Frequency\n",
    "\n",
    "#TF-IDF = TF * IDF \n"
   ]
  },
  {
   "cell_type": "code",
   "execution_count": 1,
   "metadata": {},
   "outputs": [],
   "source": [
    "\n",
    "import nltk\n",
    "paragraph='I have three visions for India. In 3000 years of our history, people from all over the world have come and invaded us, captured our lands, conquered our minds. From Alexander onwards, The Greeks, the Turks, the Moguls, the Portuguese, the British, the French, the Dutch, all of them came and looted us, took over what was ours. Yet we have not done this to any other nation. We have not conquered anyone. We have not grabbed their land, their culture, their history and Tried to enforce our way of life on them. Why? Because we respect the freedom of others. That is why my first vision is that of FREEDOM. I believe that India got its first vision of this in 1857, when we started the war of Independence. It is this freedom that we must protect and nurture and build on. If we are not free, no one will respect us. My second vision for India’s DEVELOPMENT, For fifty years we have been A developing nation. It is time we see ourselves as a developed nation. We are among top 5 nations of the world in terms of GDP. We have 10 percent growth rate in most areas. Our poverty levels are falling. Our achievements are being globally recognized today. Yet we lack the self-confidence to see ourselves as a developed nation, self-reliant and self-assured. Isn’t this incorrect? I have a THIRD vision. India must stand up to the world. Because I believe that, unless India stands up to the world, no one will respect us. Only strength respects strength. We must be strong not only as a military power but also as an economic power. Both must go hand-in-hand. My good fortune was to have worked with three great minds. Dr. Vikram Sarabhai of the Dept. of space, Professor Satish Dhawan, who succeeded him and Dr.Brahm Prakash, father of nuclear material. I was lucky to have worked with all three of them closely and consider this the great opportunity of my life.I see four milestones in my career:'\n",
    "\n"
   ]
  },
  {
   "cell_type": "code",
   "execution_count": 2,
   "metadata": {},
   "outputs": [
    {
     "name": "stdout",
     "output_type": "stream",
     "text": [
      "['three vision india ', '     year history  people world come invaded u  captured land  conquered mind ', 'alexander onwards  greek  turk  mogul  portuguese  british  french  dutch  came looted u  took ', 'yet done nation ', 'conquered anyone ', 'grabbed land  culture  history tried enforce way life ', '', 'respect freedom others ', 'first vision freedom ', 'believe india got first vision       started war independence ', 'freedom must protect nurture build ', 'free  one respect u ', 'second vision india development  fifty year developing nation ', 'time see developed nation ', 'among top   nation world term gdp ', '   percent growth rate area ', 'poverty level falling ', 'achievement globally recognized today ', 'yet lack self confidence see developed nation  self reliant self assured ', 'incorrect ', 'third vision ', 'india must stand world ', 'believe  unless india stand world  one respect u ', 'strength respect strength ', 'must strong military power also economic power ', 'must go hand hand ', 'good fortune worked three great mind ', 'dr  vikram sarabhai dept ', 'space  professor satish dhawan  succeeded dr brahm prakash  father nuclear material ', 'lucky worked three closely consider great opportunity life see four milestone career ']\n"
     ]
    }
   ],
   "source": [
    "import re\n",
    "from nltk.corpus import stopwords\n",
    "from nltk.stem import PorterStemmer\n",
    "from nltk.stem import WordNetLemmatizer\n",
    "\n",
    "ps=PorterStemmer()\n",
    "wordnet=WordNetLemmatizer()\n",
    "sentence=nltk.sent_tokenize(paragraph)\n",
    "\n",
    "\n",
    "corpus=[]\n",
    "for i in range(len(sentence)):\n",
    "    #print(i)\n",
    "    \n",
    "    review=re.sub('[^a-zA-Z]',' ',sentence[i])\n",
    "    review=review.lower()\n",
    "    reviews=review.split(' ')\n",
    "    #Stemming \n",
    "    #review=[ps.stem(word) for word in reviews if word not in set(stopwords.words('English'))]\n",
    "    #Lemmatizer\n",
    "    review=[wordnet.lemmatize(word) for word in reviews if word not in set(stopwords.words('English'))]\n",
    "    #print(review)\n",
    "    review=' '.join(review)\n",
    "    corpus.append(review)\n",
    "    \n",
    "print(corpus)\n"
   ]
  },
  {
   "cell_type": "code",
   "execution_count": 8,
   "metadata": {},
   "outputs": [
    {
     "name": "stdout",
     "output_type": "stream",
     "text": [
      "[[0.         0.         0.         ... 0.         0.         0.        ]\n",
      " [0.         0.         0.         ... 0.25830029 0.30501443 0.        ]\n",
      " [0.         0.28867513 0.         ... 0.         0.         0.        ]\n",
      " ...\n",
      " [0.         0.         0.         ... 0.         0.         0.        ]\n",
      " [0.         0.         0.         ... 0.         0.         0.        ]\n",
      " [0.         0.         0.         ... 0.         0.         0.        ]]\n"
     ]
    }
   ],
   "source": [
    "\n",
    "\n",
    "# Bag Of Word (#creating bag of words)\n",
    "#from sklearn.feature_extraction.text import CountVectorizer\n",
    "\n",
    "#TD-IDF\n",
    "from sklearn.feature_extraction.text import TfidfVectorizer\n",
    "cv=TfidfVectorizer()\n",
    "\n",
    "X=cv.fit_transform(corpus).toarray()\n",
    "print(X)"
   ]
  },
  {
   "cell_type": "code",
   "execution_count": null,
   "metadata": {},
   "outputs": [],
   "source": []
  }
 ],
 "metadata": {
  "kernelspec": {
   "display_name": "Python 3",
   "language": "python",
   "name": "python3"
  },
  "language_info": {
   "codemirror_mode": {
    "name": "ipython",
    "version": 3
   },
   "file_extension": ".py",
   "mimetype": "text/x-python",
   "name": "python",
   "nbconvert_exporter": "python",
   "pygments_lexer": "ipython3",
   "version": "3.7.4"
  }
 },
 "nbformat": 4,
 "nbformat_minor": 2
}
